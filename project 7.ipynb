{
 "cells": [
  {
   "cell_type": "markdown",
   "metadata": {},
   "source": [
    "# TIC TAC TOE game"
   ]
  },
  {
   "cell_type": "markdown",
   "metadata": {},
   "source": [
    "\n",
    "1. create board output\n",
    "2. create player\n",
    "3. choose x,o\n",
    "4. choose position\n",
    "5. check status\n",
    "6. switch player\n",
    "7. repeat 4-6\n",
    "8. winner check or full board check\n",
    "9. ask to play more game"
   ]
  },
  {
   "cell_type": "code",
   "execution_count": 1,
   "metadata": {},
   "outputs": [],
   "source": [
    "def current_board(x):\n",
    "    print(f'{x[7]:^5}|{x[8]:^5}|{x[9]:^5}')\n",
    "    print('-----------------')\n",
    "    print(f'{x[4]:^5}|{x[5]:^5}|{x[6]:^5}')\n",
    "    print('-----------------')\n",
    "    print(f'{x[1]:^5}|{x[2]:^5}|{x[3]:^5}')\n",
    "\n",
    "    print('\\n\\n  position guide')\n",
    "    print(f'{7:^5}|{8:^5}|{9:^5}')\n",
    "    print('-----------------')\n",
    "    print(f'{4:^5}|{5:^5}|{6:^5}')\n",
    "    print('-----------------')\n",
    "    print(f'{1:^5}|{2:^5}|{3:^5}')"
   ]
  },
  {
   "cell_type": "code",
   "execution_count": 2,
   "metadata": {},
   "outputs": [
    {
     "name": "stdout",
     "output_type": "stream",
     "text": [
      "     |     |     \n",
      "-----------------\n",
      "     |     |     \n",
      "-----------------\n",
      "     |     |     \n",
      "\n",
      "\n",
      "  position guide\n",
      "  7  |  8  |  9  \n",
      "-----------------\n",
      "  4  |  5  |  6  \n",
      "-----------------\n",
      "  1  |  2  |  3  \n"
     ]
    }
   ],
   "source": [
    "board = ['']*10\n",
    "current_board(board)"
   ]
  },
  {
   "cell_type": "code",
   "execution_count": 3,
   "metadata": {},
   "outputs": [],
   "source": [
    "def player_identify():\n",
    "    player1 = input('please enter your name, player 1:')\n",
    "    player2 = input('please enter your name, player 2:')\n",
    "    \n",
    "    char1 = ''\n",
    "    char2 = ''\n",
    "    match = {}\n",
    "    \n",
    "    while char1 not in ['x','o','X','O']:\n",
    "        print(f'{player1}, choose X or O:')\n",
    "        char1 = input('')\n",
    "        if char1 not in ['x','o','X','O']:\n",
    "            print('choose only X or O')\n",
    "            continue\n",
    "        elif char1 in ['x','o','X','O']:\n",
    "            if char1.upper() == 'X':\n",
    "                match[player1] = 'X'\n",
    "                match[player2] = 'O'\n",
    "            else:\n",
    "                match[player1] = 'O'\n",
    "                match[player2] = 'X'\n",
    "                \n",
    "    return list(match.items())"
   ]
  },
  {
   "cell_type": "code",
   "execution_count": 4,
   "metadata": {},
   "outputs": [
    {
     "name": "stdout",
     "output_type": "stream",
     "text": [
      "please enter your name, player 1:p1\n",
      "please enter your name, player 2:p2\n",
      "p1, choose X or O:\n",
      "a\n",
      "choose only X or O\n",
      "p1, choose X or O:\n",
      "x\n"
     ]
    }
   ],
   "source": [
    "player = player_identify()"
   ]
  },
  {
   "cell_type": "code",
   "execution_count": 5,
   "metadata": {},
   "outputs": [
    {
     "data": {
      "text/plain": [
       "[('p1', 'X'), ('p2', 'O')]"
      ]
     },
     "execution_count": 5,
     "metadata": {},
     "output_type": "execute_result"
    }
   ],
   "source": [
    "player"
   ]
  },
  {
   "cell_type": "code",
   "execution_count": 6,
   "metadata": {},
   "outputs": [],
   "source": [
    "def choose_position1(player):\n",
    "    choice = ['1','2','3','4','5','6','7','8','9']\n",
    "    position1 = ''\n",
    "\n",
    "    while position1 not in choice:\n",
    "        print(f'{player[0][0]}, choose your position 1-9:')\n",
    "        position1 = input('')\n",
    "        if position1 not in choice:\n",
    "            print('sorry, your choice is unavailable!')\n",
    "            print(f'{player[0][0]}, choose your position 1-9:')\n",
    "            position1 = input('')\n",
    "       \n",
    "    return int(position1)\n",
    "    "
   ]
  },
  {
   "cell_type": "code",
   "execution_count": 7,
   "metadata": {},
   "outputs": [
    {
     "name": "stdout",
     "output_type": "stream",
     "text": [
      "please enter your name, player 1:p1\n",
      "please enter your name, player 2:p2\n",
      "p1, choose X or O:\n",
      "x\n",
      "p1, choose your position 1-9:\n",
      "10\n",
      "sorry, your choice is unavailable!\n",
      "p1, choose your position 1-9:\n",
      "5\n"
     ]
    },
    {
     "data": {
      "text/plain": [
       "5"
      ]
     },
     "execution_count": 7,
     "metadata": {},
     "output_type": "execute_result"
    }
   ],
   "source": [
    "player = player_identify()\n",
    "choose_position1(player)"
   ]
  },
  {
   "cell_type": "code",
   "execution_count": 8,
   "metadata": {},
   "outputs": [],
   "source": [
    "def choose_position2(player):\n",
    "    choice = ['1','2','3','4','5','6','7','8','9']\n",
    "    position2 = ''\n",
    "\n",
    "    while position2 not in choice:\n",
    "        print(f'{player[1][0]}, choose your position 1-9:')\n",
    "        position2 = input('')\n",
    "        if position2 not in choice:\n",
    "            print('sorry, your choice is unavailable!')\n",
    "            print(f'{player[1][0]}, choose your position 1-9:')\n",
    "            position2 = input('')\n",
    "        \n",
    "    return int(position2)"
   ]
  },
  {
   "cell_type": "code",
   "execution_count": 9,
   "metadata": {},
   "outputs": [
    {
     "name": "stdout",
     "output_type": "stream",
     "text": [
      "please enter your name, player 1:p1\n",
      "please enter your name, player 2:p2\n",
      "p1, choose X or O:\n",
      "x\n",
      "p2, choose your position 1-9:\n",
      "10\n",
      "sorry, your choice is unavailable!\n",
      "p2, choose your position 1-9:\n",
      "8\n"
     ]
    },
    {
     "data": {
      "text/plain": [
       "8"
      ]
     },
     "execution_count": 9,
     "metadata": {},
     "output_type": "execute_result"
    }
   ],
   "source": [
    "player = player_identify()\n",
    "choose_position2(player)"
   ]
  },
  {
   "cell_type": "code",
   "execution_count": 10,
   "metadata": {},
   "outputs": [],
   "source": [
    "def board_check(board,position):\n",
    "    return board[position] == ''"
   ]
  },
  {
   "cell_type": "code",
   "execution_count": 11,
   "metadata": {},
   "outputs": [],
   "source": [
    "def position_check1(board,player):\n",
    "\n",
    "    var = True\n",
    "    while var:\n",
    "        position = choose_position1(player)\n",
    "        check = board_check(board,position)\n",
    "\n",
    "        if check:\n",
    "            board[position] = player[0][1]\n",
    "            var = False\n",
    "            break\n",
    "        elif not check:\n",
    "            print('sorry, your choice is unavailable!')\n",
    "            continue\n",
    "\n",
    "    return board"
   ]
  },
  {
   "cell_type": "code",
   "execution_count": 12,
   "metadata": {},
   "outputs": [
    {
     "name": "stdout",
     "output_type": "stream",
     "text": [
      "please enter your name, player 1:p1\n",
      "please enter your name, player 2:p2\n",
      "p1, choose X or O:\n",
      "x\n",
      "p1, choose your position 1-9:\n",
      "1\n",
      "  X  |  O  |  X  \n",
      "-----------------\n",
      "     |     |     \n",
      "-----------------\n",
      "  X  |     |     \n",
      "\n",
      "\n",
      "  position guide\n",
      "  7  |  8  |  9  \n",
      "-----------------\n",
      "  4  |  5  |  6  \n",
      "-----------------\n",
      "  1  |  2  |  3  \n"
     ]
    }
   ],
   "source": [
    "board = ['','','','','','','','X','O','X']\n",
    "player = player_identify()\n",
    "position_check1(board,player)\n",
    "current_board(board)"
   ]
  },
  {
   "cell_type": "code",
   "execution_count": 13,
   "metadata": {},
   "outputs": [],
   "source": [
    "def position_check2(board,player):\n",
    "\n",
    "    var = True\n",
    "    while var:\n",
    "        position = choose_position2(player)\n",
    "        check = board_check(board,position)\n",
    "\n",
    "        if check:\n",
    "            board[position] = player[1][1]\n",
    "            var = False\n",
    "            break\n",
    "        elif not check:\n",
    "            print('sorry, your choice is unavailable!')\n",
    "            continue\n",
    "\n",
    "    return board"
   ]
  },
  {
   "cell_type": "code",
   "execution_count": 14,
   "metadata": {},
   "outputs": [
    {
     "name": "stdout",
     "output_type": "stream",
     "text": [
      "please enter your name, player 1:p1\n",
      "please enter your name, player 2:p2\n",
      "p1, choose X or O:\n",
      "x\n",
      "p2, choose your position 1-9:\n",
      "9\n",
      "sorry, your choice is unavailable!\n",
      "p2, choose your position 1-9:\n",
      "5\n",
      "  X  |  O  |  X  \n",
      "-----------------\n",
      "     |  O  |     \n",
      "-----------------\n",
      "     |     |     \n",
      "\n",
      "\n",
      "  position guide\n",
      "  7  |  8  |  9  \n",
      "-----------------\n",
      "  4  |  5  |  6  \n",
      "-----------------\n",
      "  1  |  2  |  3  \n"
     ]
    }
   ],
   "source": [
    "board = ['','','','','','','','X','O','X']\n",
    "player = player_identify()\n",
    "position_check2(board,player)\n",
    "current_board(board)"
   ]
  },
  {
   "cell_type": "code",
   "execution_count": 15,
   "metadata": {},
   "outputs": [],
   "source": [
    "def winner_check1(board,player):\n",
    "    return board[1] == board[2] == board[3] == player[0][1] or board[4] == board[5] == board[6] == player[0][1] or board[7] == board[8] == board[9] == player[0][1] or board[1] == board[4] == board[7] == player[0][1] or board[2] == board[5] == board[8] == player[0][1] or board[3] == board[6] == board[9] == player[0][1] or board[1] == board[5] == board[9] == player[0][1] or board[3] == board[5] == board[7] == player[0][1] "
   ]
  },
  {
   "cell_type": "code",
   "execution_count": 16,
   "metadata": {},
   "outputs": [
    {
     "name": "stdout",
     "output_type": "stream",
     "text": [
      "please enter your name, player 1:p1\n",
      "please enter your name, player 2:p2\n",
      "p1, choose X or O:\n",
      "x\n"
     ]
    },
    {
     "data": {
      "text/plain": [
       "True"
      ]
     },
     "execution_count": 16,
     "metadata": {},
     "output_type": "execute_result"
    }
   ],
   "source": [
    "board = ['','','','','','','','X','X','X']\n",
    "player = player_identify()\n",
    "winner_check1(board,player)"
   ]
  },
  {
   "cell_type": "code",
   "execution_count": 17,
   "metadata": {},
   "outputs": [],
   "source": [
    "def winner_check2(board,player):\n",
    "    return board[1] == board[2] == board[3] == player[1][1] or board[4] == board[5] == board[6] == player[1][1] or board[7] == board[8] == board[9] == player[1][1] or board[1] == board[4] == board[7] == player[1][1] or board[2] == board[5] == board[8] == player[1][1] or board[3] == board[6] == board[9] == player[1][1] or board[1] == board[5] == board[9] == player[1][1] or board[3] == board[5] == board[7] == player[1][1] "
   ]
  },
  {
   "cell_type": "code",
   "execution_count": 18,
   "metadata": {},
   "outputs": [
    {
     "name": "stdout",
     "output_type": "stream",
     "text": [
      "please enter your name, player 1:p1\n",
      "please enter your name, player 2:p2\n",
      "p1, choose X or O:\n",
      "x\n"
     ]
    },
    {
     "data": {
      "text/plain": [
       "False"
      ]
     },
     "execution_count": 18,
     "metadata": {},
     "output_type": "execute_result"
    }
   ],
   "source": [
    "board = ['','','','','','','','O','X','O']\n",
    "player = player_identify()\n",
    "winner_check2(board,player)"
   ]
  },
  {
   "cell_type": "code",
   "execution_count": 19,
   "metadata": {},
   "outputs": [],
   "source": [
    "def full_board_check(board):\n",
    "    return '' in board[1:]"
   ]
  },
  {
   "cell_type": "code",
   "execution_count": 20,
   "metadata": {},
   "outputs": [
    {
     "data": {
      "text/plain": [
       "False"
      ]
     },
     "execution_count": 20,
     "metadata": {},
     "output_type": "execute_result"
    }
   ],
   "source": [
    "board = ['','1','2','2','1','x','1','x','X','O']\n",
    "full_board_check(board)"
   ]
  },
  {
   "cell_type": "code",
   "execution_count": 21,
   "metadata": {},
   "outputs": [],
   "source": [
    "def more_game():\n",
    "    \n",
    "    check = 'x'\n",
    "\n",
    "    while check.upper() not in ['Y','N']:\n",
    "        check = input('Would you like to play more game? (Y or N):')\n",
    "        if check.upper() not in ['Y','N']:\n",
    "            print('sorry, your choice is unavailable!')\n",
    "               \n",
    "    if check.upper() == 'Y':\n",
    "        return True\n",
    "    else:\n",
    "        return False"
   ]
  },
  {
   "cell_type": "code",
   "execution_count": 22,
   "metadata": {},
   "outputs": [
    {
     "name": "stdout",
     "output_type": "stream",
     "text": [
      "Would you like to play more game? (Y or N):m\n",
      "sorry, your choice is unavailable!\n",
      "Would you like to play more game? (Y or N):n\n"
     ]
    },
    {
     "data": {
      "text/plain": [
       "False"
      ]
     },
     "execution_count": 22,
     "metadata": {},
     "output_type": "execute_result"
    }
   ],
   "source": [
    "more_game()"
   ]
  },
  {
   "cell_type": "code",
   "execution_count": 23,
   "metadata": {},
   "outputs": [],
   "source": [
    "from IPython.display import clear_output\n",
    "clear_output()"
   ]
  },
  {
   "cell_type": "code",
   "execution_count": 24,
   "metadata": {},
   "outputs": [
    {
     "name": "stdout",
     "output_type": "stream",
     "text": [
      "  O  |  X  |     \n",
      "-----------------\n",
      "  X  |  X  |  O  \n",
      "-----------------\n",
      "  O  |  O  |  X  \n",
      "\n",
      "\n",
      "  position guide\n",
      "  7  |  8  |  9  \n",
      "-----------------\n",
      "  4  |  5  |  6  \n",
      "-----------------\n",
      "  1  |  2  |  3  \n",
      "Ink ramida, choose your position 1-9:\n",
      "9\n",
      "this game is even\n",
      "Would you like to play more game? (Y or N):n\n"
     ]
    }
   ],
   "source": [
    "new_game = True\n",
    "\n",
    "while new_game:\n",
    "    \n",
    "    clear_output()\n",
    "    board = ['']*10\n",
    "    print('welcome to TIC TAC TOE game')\n",
    "    current_board(board)\n",
    "    player = player_identify()\n",
    "    play_check = True\n",
    "\n",
    "    while play_check:\n",
    "\n",
    "        clear_output()\n",
    "        current_board(board)\n",
    "        position_check1(board,player)\n",
    "        win_check1 = winner_check1(board,player)\n",
    "        if win_check1 == True:\n",
    "            clear_output()\n",
    "            current_board(board)\n",
    "            print(f'the winner is {player[0][0]}')\n",
    "            play_check = False\n",
    "            break\n",
    "        else:\n",
    "            pass\n",
    "        full_check = full_board_check(board)\n",
    "        if full_check == False:\n",
    "            print('this game is even')\n",
    "            play_check = False\n",
    "            break\n",
    "        else:\n",
    "            pass\n",
    "\n",
    "        clear_output()\n",
    "        current_board(board)\n",
    "        position_check2(board,player)\n",
    "        win_check2 = winner_check2(board,player)\n",
    "        if win_check2 == True:\n",
    "            clear_output()\n",
    "            current_board(board)\n",
    "            print(f'the winner is {player[1][0]}')\n",
    "            play_check = False\n",
    "            break\n",
    "        else:\n",
    "            pass\n",
    "        full_check = full_board_check(board)\n",
    "        if full_check == False:\n",
    "            print('this game is even')\n",
    "            play_check = False\n",
    "            break\n",
    "        else:\n",
    "            pass\n",
    "\n",
    "    new_game = more_game()"
   ]
  },
  {
   "cell_type": "code",
   "execution_count": null,
   "metadata": {},
   "outputs": [],
   "source": []
  }
 ],
 "metadata": {
  "kernelspec": {
   "display_name": "Python 3",
   "language": "python",
   "name": "python3"
  },
  "language_info": {
   "codemirror_mode": {
    "name": "ipython",
    "version": 3
   },
   "file_extension": ".py",
   "mimetype": "text/x-python",
   "name": "python",
   "nbconvert_exporter": "python",
   "pygments_lexer": "ipython3",
   "version": "3.8.3"
  }
 },
 "nbformat": 4,
 "nbformat_minor": 4
}
